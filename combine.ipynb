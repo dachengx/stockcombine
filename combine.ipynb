{
 "cells": [
  {
   "cell_type": "markdown",
   "id": "882ded3a",
   "metadata": {},
   "source": [
    "# Import packages, set matplotlib params"
   ]
  },
  {
   "cell_type": "code",
   "execution_count": null,
   "id": "46da5e3e",
   "metadata": {
    "tags": []
   },
   "outputs": [],
   "source": [
    "import pandas as pd\n",
    "import numpy as np\n",
    "import matplotlib.pyplot as plt\n",
    "from matplotlib import gridspec\n",
    "from iminuit import Minuit\n",
    "from iminuit.cost import LeastSquares\n",
    "\n",
    "%matplotlib inline\n",
    "\n",
    "plt.rcParams['savefig.dpi'] = 200\n",
    "plt.rcParams['figure.dpi'] = 100\n",
    "plt.rcParams['font.size'] = 20\n",
    "plt.rcParams['lines.markersize'] = 4.0\n",
    "plt.rcParams['lines.linewidth'] = 2.0"
   ]
  },
  {
   "cell_type": "markdown",
   "id": "a895f2d2",
   "metadata": {},
   "source": [
    "# Read `.xlsx` files into pandas Dataframe"
   ]
  },
  {
   "cell_type": "code",
   "execution_count": null,
   "id": "bb9f0312",
   "metadata": {},
   "outputs": [],
   "source": [
    "try:\n",
    "    df = pd.read_pickle('dataframeorigin.pkl')\n",
    "    df_valid = pd.read_pickle('dataframevalid.pkl')\n",
    "    df_cov = pd.read_pickle('dataframe.pkl')\n",
    "except:\n",
    "    df0 = pd.read_excel('TRD_Dalyr.xlsx', header=0, usecols=[0, 1, 3], skiprows=[1, 2], parse_dates=[1])\n",
    "    df1 = pd.read_excel('TRD_Dalyr1.xlsx', header=0, usecols=[0, 1, 3], skiprows=[1, 2], parse_dates=[1])\n",
    "    df2 = pd.read_excel('TRD_Dalyr2.xlsx', header=0, usecols=[0, 1, 3], skiprows=[1, 2], parse_dates=[1])\n",
    "    df3 = pd.read_excel('TRD_Dalyr3.xlsx', header=0, usecols=[0, 1, 3], skiprows=[1, 2], parse_dates=[1])\n",
    "\n",
    "    df = pd.concat([df0, df1, df2, df3])\n",
    "    df.to_pickle('dataframeorigin.pkl')\n",
    "    stocks = df.set_index(['Trddt', 'Stkcd']).unstack().dropna(axis=1, how='any').columns.droplevel().values\n",
    "    df_valid = df[df['Stkcd'].isin(stocks)]\n",
    "    df_valid.to_pickle('dataframevalid.pkl')\n",
    "    df_valid.to_csv('dataframevalid.csv')\n",
    "    df_cov = df.set_index(['Trddt', 'Stkcd']).unstack().dropna(axis=1, how='any').cov()\n",
    "    df_cov.to_pickle('dataframe.pkl')\n",
    "    df_cov.to_csv('dataframe.csv')"
   ]
  },
  {
   "cell_type": "markdown",
   "id": "da39fbbc",
   "metadata": {},
   "source": [
    "# Calculate the risk expectation `V(n)` of n-combined stocks"
   ]
  },
  {
   "cell_type": "code",
   "execution_count": null,
   "id": "6c130054",
   "metadata": {},
   "outputs": [],
   "source": [
    "np.random.seed(0)\n",
    "cov = df_cov.values\n",
    "N = len(cov)\n",
    "indices = np.arange(N)\n",
    "n = np.arange(1, 101)\n",
    "sampleN = 10000\n",
    "\n",
    "def averV(ni):\n",
    "    index = np.random.choice(N, size=ni)\n",
    "    return cov[index].T[index].sum() / ni / ni\n",
    "\n",
    "averVvec = np.vectorize(averV)\n",
    "\n",
    "aver = np.empty(len(n))\n",
    "vmin = np.empty(len(n))\n",
    "vmax = np.empty(len(n))\n",
    "vstd = np.empty(len(n))\n",
    "vmed = np.empty(len(n))\n",
    "\n",
    "for i, ni in enumerate(n):\n",
    "    d = averVvec(np.full(sampleN, ni))\n",
    "    aver[i] = np.mean(d)\n",
    "    vmin[i] = np.min(d)\n",
    "    vmax[i] = np.max(d)\n",
    "    vstd[i] = np.std(d, ddof=-1)\n",
    "    vmed[i] = np.median(d)\n",
    "\n",
    "np.savetxt('numpydata.csv', np.vstack([n, aver, vstd, vmax, vmin]).T, delimiter=',')"
   ]
  },
  {
   "cell_type": "markdown",
   "id": "bd77d250",
   "metadata": {},
   "source": [
    "# Draw the covariance matrix of first 10 stocks's risk"
   ]
  },
  {
   "cell_type": "code",
   "execution_count": null,
   "id": "ee2502e1",
   "metadata": {},
   "outputs": [],
   "source": [
    "fig = plt.figure(figsize=(6, 6))\n",
    "# fig.tight_layout()\n",
    "gs = gridspec.GridSpec(1, 1, figure=fig, left=0.15, right=0.95, top=0.9, bottom=0.15, wspace=0.4, hspace=0.5)\n",
    "ax = fig.add_subplot(gs[0, 0])\n",
    "cp = ax.imshow(cov[:10, :10])\n",
    "fig.colorbar(cp, ax=ax)\n",
    "ax.set_xticks(np.arange(10))\n",
    "ax.set_xticklabels(np.arange(10).astype(str))\n",
    "ax.set_yticks(np.arange(10))\n",
    "ax.set_yticklabels(np.arange(10).astype(str))\n",
    "# fig.savefig('')\n",
    "plt.show()"
   ]
  },
  {
   "cell_type": "markdown",
   "id": "b341c60f",
   "metadata": {},
   "source": [
    "# Draw the relation between risk expectation `V(n)` and `n`"
   ]
  },
  {
   "cell_type": "code",
   "execution_count": null,
   "id": "a8d385a5",
   "metadata": {},
   "outputs": [],
   "source": [
    "fig = plt.figure(figsize=(6, 6))\n",
    "# fig.tight_layout()\n",
    "gs = gridspec.GridSpec(1, 1, figure=fig, left=0.15, right=0.95, top=0.9, bottom=0.15, wspace=0.4, hspace=0.5)\n",
    "ax = fig.add_subplot(gs[0, 0])\n",
    "ds = [averVvec(np.full(sampleN, 10)), averVvec(np.full(sampleN, 25)), averVvec(np.full(sampleN, 50)), averVvec(np.full(sampleN, 100))]\n",
    "for i, ni in enumerate([10, 25, 50, 100]):\n",
    "    np.savetxt(str(ni) + '.csv', ds[i], delimiter=',')\n",
    "ax.boxplot(ds, positions=[10, 25, 50, 100], sym='', patch_artist=True, widths=5)\n",
    "ax.plot(n, aver, color='b', label='E[Var(n)]')\n",
    "# ax.plot(n, vmed, color='y', label='Med[Var(n)]')\n",
    "ax.fill_between(n, aver - vstd, aver + vstd, color='b', alpha=0.3, label=r'$\\pm$Var[Var(n)]')\n",
    "ax.plot(n, vmax, color='g', label='Max[Var(n)]')\n",
    "# ax.plot(n, vmin, color='y', label='Min[Var(n)]')\n",
    "ax.set_xlabel('n')\n",
    "ax.set_ylabel('Statistics')\n",
    "ax.grid()\n",
    "ax.yaxis.get_major_formatter().set_powerlimits((0, 1))\n",
    "ax.legend()\n",
    "# ax.set_yscale('log')\n",
    "fig.savefig('data.png')\n",
    "plt.show()"
   ]
  },
  {
   "cell_type": "code",
   "execution_count": null,
   "id": "e3108941",
   "metadata": {},
   "outputs": [],
   "source": [
    "fig = plt.figure(figsize=(6, 6))\n",
    "# fig.tight_layout()\n",
    "gs = gridspec.GridSpec(1, 1, figure=fig, left=0.15, right=0.95, top=0.9, bottom=0.15, wspace=0.4, hspace=0.5)\n",
    "ax = fig.add_subplot(gs[0, 0])\n",
    "ax.plot(n[1:], np.diff(aver), label=\"V'(n)\")\n",
    "ax.set_xlabel('n')\n",
    "ax.set_ylabel(\"V'(n)\")\n",
    "ax.grid()\n",
    "ax.yaxis.get_major_formatter().set_powerlimits((0, 1))\n",
    "# ax.legend()\n",
    "# ax.set_yscale('log')\n",
    "# fig.savefig('')\n",
    "plt.show()"
   ]
  },
  {
   "cell_type": "code",
   "execution_count": null,
   "id": "de8e8b73",
   "metadata": {},
   "outputs": [],
   "source": [
    "var = np.trace(cov)\n",
    "covv = cov.sum() - var\n",
    "\n",
    "def V(n, a):\n",
    "    return (var / N - covv / N  / (N - 1)) / (n ** a) + covv / N  / (N - 1)\n",
    "\n",
    "least_squares = LeastSquares(n, aver, aver / np.sqrt(sampleN), V)\n",
    "\n",
    "m = Minuit(least_squares, a=1, name=('a'))\n",
    "m.limits['a'] = (0, 2)\n",
    "m.errordef = 0.5\n",
    "m.migrad()\n",
    "# m.hesse()\n",
    "m.minos()\n",
    "\n",
    "fit_info = []\n",
    "for p, v, e in zip(m.parameters, m.values, m.errors):\n",
    "    fit_info.append(f'{p} = ${v:.3f} \\\\pm {e:.3f}$')"
   ]
  },
  {
   "cell_type": "code",
   "execution_count": null,
   "id": "33141383",
   "metadata": {},
   "outputs": [],
   "source": [
    "fig = plt.figure(figsize=(6, 6))\n",
    "# fig.tight_layout()\n",
    "gs = gridspec.GridSpec(1, 1, figure=fig, left=0.15, right=0.95, top=0.9, bottom=0.15, wspace=0.4, hspace=0.5)\n",
    "ax = fig.add_subplot(gs[0, 0])\n",
    "ax.plot(n, aver, color='b', label='E[Var(n)]')\n",
    "ax.fill_between(n, aver - vstd, aver + vstd, color='b', alpha=0.3, label=r'$\\pm$Var[Var(n)]')\n",
    "ax.plot(n, vmax, color='g', label='Max[Var(n)]')\n",
    "ax.plot(n, V(n, *m.values), color='r', label='fit E[Var(n)]')\n",
    "ax.set_xlabel('$n$')\n",
    "ax.set_ylabel('$V(n)=c_1 \\cdot n^{-a} + c_2$')\n",
    "ax.grid()\n",
    "ax.yaxis.get_major_formatter().set_powerlimits((0, 1))\n",
    "ax.legend(title='\\n'.join(fit_info))\n",
    "# ax.set_yscale('log')\n",
    "fig.savefig('fit.png')\n",
    "plt.show()"
   ]
  }
 ],
 "metadata": {
  "kernelspec": {
   "display_name": "Python 3",
   "language": "python",
   "name": "python3"
  },
  "language_info": {
   "codemirror_mode": {
    "name": "ipython",
    "version": 3
   },
   "file_extension": ".py",
   "mimetype": "text/x-python",
   "name": "python",
   "nbconvert_exporter": "python",
   "pygments_lexer": "ipython3",
   "version": "3.9.4"
  }
 },
 "nbformat": 4,
 "nbformat_minor": 5
}
